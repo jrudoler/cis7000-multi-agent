{
 "cells": [
  {
   "cell_type": "code",
   "execution_count": 2,
   "metadata": {},
   "outputs": [
    {
     "data": {
      "application/vnd.jupyter.widget-view+json": {
       "model_id": "7600d630b36242cab298333f180b4251",
       "version_major": 2,
       "version_minor": 0
      },
      "text/plain": [
       "Loading dataset shards:   0%|          | 0/33 [00:00<?, ?it/s]"
      ]
     },
     "metadata": {},
     "output_type": "display_data"
    },
    {
     "data": {
      "application/vnd.jupyter.widget-view+json": {
       "model_id": "3ffa88bbfe55427c8a38e24e96b4752d",
       "version_major": 2,
       "version_minor": 0
      },
      "text/plain": [
       "Loading dataset shards:   0%|          | 0/28 [00:00<?, ?it/s]"
      ]
     },
     "metadata": {},
     "output_type": "display_data"
    },
    {
     "data": {
      "application/vnd.jupyter.widget-view+json": {
       "model_id": "58d7aea09be64214a15d0a3ea1b56434",
       "version_major": 2,
       "version_minor": 0
      },
      "text/plain": [
       "Map (num_proc=8):   0%|          | 0/4448181 [00:00<?, ? examples/s]"
      ]
     },
     "metadata": {},
     "output_type": "display_data"
    },
    {
     "ename": "TypeError",
     "evalue": "string indices must be integers, not 'str'",
     "output_type": "error",
     "traceback": [
      "\u001b[0;31m---------------------------------------------------------------------------\u001b[0m",
      "\u001b[0;31mRemoteTraceback\u001b[0m                           Traceback (most recent call last)",
      "\u001b[0;31mRemoteTraceback\u001b[0m: \n\"\"\"\nTraceback (most recent call last):\n  File \"/Users/jrudoler/Library/Caches/pypoetry/virtualenvs/cis7000-multi-agent-DKUDeX73-py3.12/lib/python3.12/site-packages/multiprocess/pool.py\", line 125, in worker\n    result = (True, func(*args, **kwds))\n                    ^^^^^^^^^^^^^^^^^^^\n  File \"/Users/jrudoler/Library/Caches/pypoetry/virtualenvs/cis7000-multi-agent-DKUDeX73-py3.12/lib/python3.12/site-packages/datasets/utils/py_utils.py\", line 678, in _write_generator_to_queue\n    for i, result in enumerate(func(**kwargs)):\n  File \"/Users/jrudoler/Library/Caches/pypoetry/virtualenvs/cis7000-multi-agent-DKUDeX73-py3.12/lib/python3.12/site-packages/datasets/arrow_dataset.py\", line 3458, in _map_single\n    batch = apply_function_on_filtered_inputs(\n            ^^^^^^^^^^^^^^^^^^^^^^^^^^^^^^^^^^\n  File \"/Users/jrudoler/Library/Caches/pypoetry/virtualenvs/cis7000-multi-agent-DKUDeX73-py3.12/lib/python3.12/site-packages/datasets/arrow_dataset.py\", line 3320, in apply_function_on_filtered_inputs\n    processed_inputs = function(*fn_args, *additional_args, **fn_kwargs)\n                       ^^^^^^^^^^^^^^^^^^^^^^^^^^^^^^^^^^^^^^^^^^^^^^^^^\n  File \"/Users/jrudoler/Library/Caches/pypoetry/virtualenvs/cis7000-multi-agent-DKUDeX73-py3.12/lib/python3.12/site-packages/numpy/lib/_function_base_impl.py\", line 2470, in __call__\n    return self._call_as_normal(*args, **kwargs)\n           ^^^^^^^^^^^^^^^^^^^^^^^^^^^^^^^^^^^^^\n  File \"/Users/jrudoler/Library/Caches/pypoetry/virtualenvs/cis7000-multi-agent-DKUDeX73-py3.12/lib/python3.12/site-packages/numpy/lib/_function_base_impl.py\", line 2463, in _call_as_normal\n    return self._vectorize_call(func=func, args=vargs)\n           ^^^^^^^^^^^^^^^^^^^^^^^^^^^^^^^^^^^^^^^^^^^\n  File \"/Users/jrudoler/Library/Caches/pypoetry/virtualenvs/cis7000-multi-agent-DKUDeX73-py3.12/lib/python3.12/site-packages/numpy/lib/_function_base_impl.py\", line 2548, in _vectorize_call\n    ufunc, otypes = self._get_ufunc_and_otypes(func=func, args=args)\n                    ^^^^^^^^^^^^^^^^^^^^^^^^^^^^^^^^^^^^^^^^^^^^^^^^\n  File \"/Users/jrudoler/Library/Caches/pypoetry/virtualenvs/cis7000-multi-agent-DKUDeX73-py3.12/lib/python3.12/site-packages/numpy/lib/_function_base_impl.py\", line 2508, in _get_ufunc_and_otypes\n    outputs = func(*inputs)\n              ^^^^^^^^^^^^^\n  File \"/Users/jrudoler/Documents/projects/cis7000-multi-agent/data_handling.py\", line 13, in concat_item_metadata\n    if dp[\"title\"] is not None:\n       ~~^^^^^^^^^\nTypeError: string indices must be integers, not 'str'\n\"\"\"",
      "\nThe above exception was the direct cause of the following exception:\n",
      "\u001b[0;31mTypeError\u001b[0m                                 Traceback (most recent call last)",
      "Cell \u001b[0;32mIn[2], line 15\u001b[0m\n\u001b[1;32m     13\u001b[0m item_meta \u001b[38;5;241m=\u001b[39m load_dataset(\u001b[38;5;124m\"\u001b[39m\u001b[38;5;124mMcAuley-Lab/Amazon-Reviews-2023\u001b[39m\u001b[38;5;124m\"\u001b[39m, \u001b[38;5;124m\"\u001b[39m\u001b[38;5;124mraw_meta_Books\u001b[39m\u001b[38;5;124m\"\u001b[39m, trust_remote_code\u001b[38;5;241m=\u001b[39m\u001b[38;5;28;01mTrue\u001b[39;00m)\n\u001b[1;32m     14\u001b[0m item_meta \u001b[38;5;241m=\u001b[39m item_meta[\u001b[38;5;124m'\u001b[39m\u001b[38;5;124mfull\u001b[39m\u001b[38;5;124m'\u001b[39m]\n\u001b[0;32m---> 15\u001b[0m item_meta \u001b[38;5;241m=\u001b[39m \u001b[43mitem_meta\u001b[49m\u001b[38;5;241;43m.\u001b[39;49m\u001b[43mmap\u001b[49m\u001b[43m(\u001b[49m\u001b[43mnp\u001b[49m\u001b[38;5;241;43m.\u001b[39;49m\u001b[43mvectorize\u001b[49m\u001b[43m(\u001b[49m\u001b[43mconcat_item_metadata\u001b[49m\u001b[43m)\u001b[49m\u001b[43m,\u001b[49m\u001b[43m \u001b[49m\u001b[43mbatched\u001b[49m\u001b[38;5;241;43m=\u001b[39;49m\u001b[38;5;28;43;01mTrue\u001b[39;49;00m\u001b[43m,\u001b[49m\u001b[43m \u001b[49m\u001b[43mnum_proc\u001b[49m\u001b[38;5;241;43m=\u001b[39;49m\u001b[43mN_CPUS\u001b[49m\u001b[43m)\u001b[49m\n\u001b[1;32m     17\u001b[0m \u001b[38;5;66;03m# https://github.com/hyp1231/AmazonReviews2023/blob/main/blair/sample_pretraining_data.py#L125\u001b[39;00m\n",
      "File \u001b[0;32m~/Library/Caches/pypoetry/virtualenvs/cis7000-multi-agent-DKUDeX73-py3.12/lib/python3.12/site-packages/datasets/arrow_dataset.py:560\u001b[0m, in \u001b[0;36mtransmit_format.<locals>.wrapper\u001b[0;34m(*args, **kwargs)\u001b[0m\n\u001b[1;32m    553\u001b[0m self_format \u001b[38;5;241m=\u001b[39m {\n\u001b[1;32m    554\u001b[0m     \u001b[38;5;124m\"\u001b[39m\u001b[38;5;124mtype\u001b[39m\u001b[38;5;124m\"\u001b[39m: \u001b[38;5;28mself\u001b[39m\u001b[38;5;241m.\u001b[39m_format_type,\n\u001b[1;32m    555\u001b[0m     \u001b[38;5;124m\"\u001b[39m\u001b[38;5;124mformat_kwargs\u001b[39m\u001b[38;5;124m\"\u001b[39m: \u001b[38;5;28mself\u001b[39m\u001b[38;5;241m.\u001b[39m_format_kwargs,\n\u001b[1;32m    556\u001b[0m     \u001b[38;5;124m\"\u001b[39m\u001b[38;5;124mcolumns\u001b[39m\u001b[38;5;124m\"\u001b[39m: \u001b[38;5;28mself\u001b[39m\u001b[38;5;241m.\u001b[39m_format_columns,\n\u001b[1;32m    557\u001b[0m     \u001b[38;5;124m\"\u001b[39m\u001b[38;5;124moutput_all_columns\u001b[39m\u001b[38;5;124m\"\u001b[39m: \u001b[38;5;28mself\u001b[39m\u001b[38;5;241m.\u001b[39m_output_all_columns,\n\u001b[1;32m    558\u001b[0m }\n\u001b[1;32m    559\u001b[0m \u001b[38;5;66;03m# apply actual function\u001b[39;00m\n\u001b[0;32m--> 560\u001b[0m out: Union[\u001b[38;5;124m\"\u001b[39m\u001b[38;5;124mDataset\u001b[39m\u001b[38;5;124m\"\u001b[39m, \u001b[38;5;124m\"\u001b[39m\u001b[38;5;124mDatasetDict\u001b[39m\u001b[38;5;124m\"\u001b[39m] \u001b[38;5;241m=\u001b[39m \u001b[43mfunc\u001b[49m\u001b[43m(\u001b[49m\u001b[38;5;28;43mself\u001b[39;49m\u001b[43m,\u001b[49m\u001b[43m \u001b[49m\u001b[38;5;241;43m*\u001b[39;49m\u001b[43margs\u001b[49m\u001b[43m,\u001b[49m\u001b[43m \u001b[49m\u001b[38;5;241;43m*\u001b[39;49m\u001b[38;5;241;43m*\u001b[39;49m\u001b[43mkwargs\u001b[49m\u001b[43m)\u001b[49m\n\u001b[1;32m    561\u001b[0m datasets: List[\u001b[38;5;124m\"\u001b[39m\u001b[38;5;124mDataset\u001b[39m\u001b[38;5;124m\"\u001b[39m] \u001b[38;5;241m=\u001b[39m \u001b[38;5;28mlist\u001b[39m(out\u001b[38;5;241m.\u001b[39mvalues()) \u001b[38;5;28;01mif\u001b[39;00m \u001b[38;5;28misinstance\u001b[39m(out, \u001b[38;5;28mdict\u001b[39m) \u001b[38;5;28;01melse\u001b[39;00m [out]\n\u001b[1;32m    562\u001b[0m \u001b[38;5;66;03m# re-apply format to the output\u001b[39;00m\n",
      "File \u001b[0;32m~/Library/Caches/pypoetry/virtualenvs/cis7000-multi-agent-DKUDeX73-py3.12/lib/python3.12/site-packages/datasets/arrow_dataset.py:3147\u001b[0m, in \u001b[0;36mDataset.map\u001b[0;34m(self, function, with_indices, with_rank, input_columns, batched, batch_size, drop_last_batch, remove_columns, keep_in_memory, load_from_cache_file, cache_file_name, writer_batch_size, features, disable_nullable, fn_kwargs, num_proc, suffix_template, new_fingerprint, desc)\u001b[0m\n\u001b[1;32m   3141\u001b[0m logger\u001b[38;5;241m.\u001b[39minfo(\u001b[38;5;124mf\u001b[39m\u001b[38;5;124m\"\u001b[39m\u001b[38;5;124mSpawning \u001b[39m\u001b[38;5;132;01m{\u001b[39;00mnum_proc\u001b[38;5;132;01m}\u001b[39;00m\u001b[38;5;124m processes\u001b[39m\u001b[38;5;124m\"\u001b[39m)\n\u001b[1;32m   3142\u001b[0m \u001b[38;5;28;01mwith\u001b[39;00m hf_tqdm(\n\u001b[1;32m   3143\u001b[0m     unit\u001b[38;5;241m=\u001b[39m\u001b[38;5;124m\"\u001b[39m\u001b[38;5;124m examples\u001b[39m\u001b[38;5;124m\"\u001b[39m,\n\u001b[1;32m   3144\u001b[0m     total\u001b[38;5;241m=\u001b[39mpbar_total,\n\u001b[1;32m   3145\u001b[0m     desc\u001b[38;5;241m=\u001b[39m(desc \u001b[38;5;129;01mor\u001b[39;00m \u001b[38;5;124m\"\u001b[39m\u001b[38;5;124mMap\u001b[39m\u001b[38;5;124m\"\u001b[39m) \u001b[38;5;241m+\u001b[39m \u001b[38;5;124mf\u001b[39m\u001b[38;5;124m\"\u001b[39m\u001b[38;5;124m (num_proc=\u001b[39m\u001b[38;5;132;01m{\u001b[39;00mnum_proc\u001b[38;5;132;01m}\u001b[39;00m\u001b[38;5;124m)\u001b[39m\u001b[38;5;124m\"\u001b[39m,\n\u001b[1;32m   3146\u001b[0m ) \u001b[38;5;28;01mas\u001b[39;00m pbar:\n\u001b[0;32m-> 3147\u001b[0m \u001b[43m    \u001b[49m\u001b[38;5;28;43;01mfor\u001b[39;49;00m\u001b[43m \u001b[49m\u001b[43mrank\u001b[49m\u001b[43m,\u001b[49m\u001b[43m \u001b[49m\u001b[43mdone\u001b[49m\u001b[43m,\u001b[49m\u001b[43m \u001b[49m\u001b[43mcontent\u001b[49m\u001b[43m \u001b[49m\u001b[38;5;129;43;01min\u001b[39;49;00m\u001b[43m \u001b[49m\u001b[43miflatmap_unordered\u001b[49m\u001b[43m(\u001b[49m\n\u001b[1;32m   3148\u001b[0m \u001b[43m        \u001b[49m\u001b[43mpool\u001b[49m\u001b[43m,\u001b[49m\u001b[43m \u001b[49m\u001b[43mDataset\u001b[49m\u001b[38;5;241;43m.\u001b[39;49m\u001b[43m_map_single\u001b[49m\u001b[43m,\u001b[49m\u001b[43m \u001b[49m\u001b[43mkwargs_iterable\u001b[49m\u001b[38;5;241;43m=\u001b[39;49m\u001b[43mkwargs_per_job\u001b[49m\n\u001b[1;32m   3149\u001b[0m \u001b[43m    \u001b[49m\u001b[43m)\u001b[49m\u001b[43m:\u001b[49m\n\u001b[1;32m   3150\u001b[0m \u001b[43m        \u001b[49m\u001b[38;5;28;43;01mif\u001b[39;49;00m\u001b[43m \u001b[49m\u001b[43mdone\u001b[49m\u001b[43m:\u001b[49m\n\u001b[1;32m   3151\u001b[0m \u001b[43m            \u001b[49m\u001b[43mshards_done\u001b[49m\u001b[43m \u001b[49m\u001b[38;5;241;43m+\u001b[39;49m\u001b[38;5;241;43m=\u001b[39;49m\u001b[43m \u001b[49m\u001b[38;5;241;43m1\u001b[39;49m\n",
      "File \u001b[0;32m~/Library/Caches/pypoetry/virtualenvs/cis7000-multi-agent-DKUDeX73-py3.12/lib/python3.12/site-packages/datasets/utils/py_utils.py:718\u001b[0m, in \u001b[0;36miflatmap_unordered\u001b[0;34m(pool, func, kwargs_iterable)\u001b[0m\n\u001b[1;32m    715\u001b[0m \u001b[38;5;28;01mfinally\u001b[39;00m:\n\u001b[1;32m    716\u001b[0m     \u001b[38;5;28;01mif\u001b[39;00m \u001b[38;5;129;01mnot\u001b[39;00m pool_changed:\n\u001b[1;32m    717\u001b[0m         \u001b[38;5;66;03m# we get the result in case there's an error to raise\u001b[39;00m\n\u001b[0;32m--> 718\u001b[0m         [\u001b[43masync_result\u001b[49m\u001b[38;5;241;43m.\u001b[39;49m\u001b[43mget\u001b[49m\u001b[43m(\u001b[49m\u001b[43mtimeout\u001b[49m\u001b[38;5;241;43m=\u001b[39;49m\u001b[38;5;241;43m0.05\u001b[39;49m\u001b[43m)\u001b[49m \u001b[38;5;28;01mfor\u001b[39;00m async_result \u001b[38;5;129;01min\u001b[39;00m async_results]\n",
      "File \u001b[0;32m~/Library/Caches/pypoetry/virtualenvs/cis7000-multi-agent-DKUDeX73-py3.12/lib/python3.12/site-packages/multiprocess/pool.py:774\u001b[0m, in \u001b[0;36mApplyResult.get\u001b[0;34m(self, timeout)\u001b[0m\n\u001b[1;32m    772\u001b[0m     \u001b[38;5;28;01mreturn\u001b[39;00m \u001b[38;5;28mself\u001b[39m\u001b[38;5;241m.\u001b[39m_value\n\u001b[1;32m    773\u001b[0m \u001b[38;5;28;01melse\u001b[39;00m:\n\u001b[0;32m--> 774\u001b[0m     \u001b[38;5;28;01mraise\u001b[39;00m \u001b[38;5;28mself\u001b[39m\u001b[38;5;241m.\u001b[39m_value\n",
      "\u001b[0;31mTypeError\u001b[0m: string indices must be integers, not 'str'"
     ]
    }
   ],
   "source": [
    "from openai import AzureOpenAI\n",
    "from datasets import load_dataset\n",
    "from data_handling import concat_item_metadata, load_data\n",
    "import os\n",
    "import numpy as np\n",
    "import multiprocessing\n",
    "N_CPUS = multiprocessing.cpu_count()\n",
    "\n",
    "\n",
    "reviews = load_dataset(\"McAuley-Lab/Amazon-Reviews-2023\", \"raw_review_Books\", trust_remote_code=True)\n",
    "reviews = reviews['full']\n",
    "\n",
    "item_meta = load_dataset(\"McAuley-Lab/Amazon-Reviews-2023\", \"raw_meta_Books\", trust_remote_code=True)\n",
    "item_meta = item_meta['full']\n",
    "item_meta = item_meta.map(concat_item_metadata, batched=True, num_proc=N_CPUS)\n",
    "\n",
    "# https://github.com/hyp1231/AmazonReviews2023/blob/main/blair/sample_pretraining_data.py#L125\n"
   ]
  },
  {
   "cell_type": "code",
   "execution_count": 28,
   "metadata": {},
   "outputs": [],
   "source": [
    "reviews = reviews.sort('helpful_vote', reverse=True).take(5000)\n",
    "# list(reviews.take(100).select_columns(['parent_asin', 'title', 'helpful_vote']))"
   ]
  },
  {
   "cell_type": "code",
   "execution_count": 3,
   "metadata": {},
   "outputs": [
    {
     "data": {
      "text/plain": [
       "[{'parent_asin': '1538714620',\n",
       "  'title': 'A Different Approach to Healthy Diet',\n",
       "  'helpful_vote': 623,\n",
       "  'text': 'There are a large number of diet books around, espousing a variety of “healthy” lifestyles, and often these are unsustainable over the long term either for financial or health reasons. Many look at such factors as calories, fat, carbohydrates and more without really considering the foods themselves beyond that. This book isn’t a diet book, per se; instead, it looks at the individual foods and explains how the body uses them to heal and regenerate itself.<br /><br />To cut to the chase on one important point: the focus is very much on natural, unprocessed foods like fruits, vegetables, nuts and fish. There is a definite lack of coverage for land-based meats (beef, pork, lamb) though there is discussion of various types of seafood such as tuna, anchovies, clams and more, and chicken/turkey are also covered.<br /><br />This is not a formal diet book; rather, it is more of a field guide to foods that help your body in several key areas: angiogenesis, regeneration, microbiome, DNA protection and immunity. Each of these get a dedicated chapter on what they are, how tending to them is important and how you can give your body the tools it needs to fight off diseases and heal itself. At the end of the book there is a set of large tables, one for each of these aspects of your health, and the author advises to eat at least one serving of something from each table every day. Interestingly, the book does not advocate eating only things on the lists, but instead says to make sure that these are added to the regular diet.<br /><br />Some of the material regarding specific foods I have seen before, such as the antioxidant properties of certain fruits, good fat content of others and so on, but much of what is here is new to me. What this book does is consolidate a lot of information into one handy reference. I did not know what fiddleheads were until I found out about them in this book, after which I was able to get corroborating information online.<br /><br />I am still working my way through this book and I am learning a lot as I go, but so far I have been very encouraged with what I have seen and read. This is a different approach to health, not focused on weight management and counting calories, but instead focusing on how your body uses different foods to heal, rebuild and defend itself.'},\n",
       " {'parent_asin': '0399158022',\n",
       "  'title': 'The End is Nigh...',\n",
       "  'helpful_vote': 710,\n",
       "  'text': 'I\\'ve read all of the Scarpetta novels and after the last 2, vowed never to read another one as I\\'ve watched Kay et al slide inexorably down the slippery slope into tedium, repetition, predictability and implausibility. However, last week Cornwell came to our local bookstore and so off I went in the vain hope that if she was actually putting in an appearance in our humble neck of the woods then she MUST have something worth offering. The event was extremely well attended with much overflow milling about in the aisles and generally raising the blood pressure of her \"security\" (a young man with a Secret Service-looking curly wire hanging out of his ear) and the event organizer who would have been right at home in the Catholic school of which I have shuddering memories. Suitably chastised into order, the tension mounted as we were promised the imminent arrival of Cornwell (\"how excited are you??\") for 20 minutes. Which is exactly how long we were given. No reading from Red Mist, 20 minutes of questions and answers, and on to the book signing. No dedications please, no conversation or questions (probably just as well as I don\\'t think that my comment of \"I hope this is better than the last one\" would have gone down very well) -  just an illegible scrawled signature and  on to the next in line. Move `em along and rack up the dollars. I spent longer trying to find a parking space than I did in the esteemed author\\'s presence.  I left clutching my hardback copy for which I paid $$$ and wondering vaguely what had just happened.<br /><br />Feeling somewhat disgruntled I settled in at home with a pot of tea and The Book. 120 pages later I felt the panic starting to creep in. 50 pages further on I was tempted to fling myself on the floor kicking and screaming. A couple of days later when I had finished it (not all in one sitting - I can only take so much at once) I was leaning towards returning the book and demanding my money back. I mean, it\\'s not as if you can even read the signature! As many other reviewers have stated, Red Mist is an incredibly disappointing novel. Cornwell seems to have reached the sad but often inevitable place that many authors with an initially much loved character reach - she\\'s quite simply run out of steam. It pains me to admit that I no longer like any of her characters; although I must admit to never having liked Lucy. She becomes ever more sociopathic (a word that Cornwell herself used to describe her at the signing) but not in a Dexter-ish way. Benton quite simply should have remained dead. Marino continues to barge about in his boorish/boring manner. Scarpetta has lost the clever edginess for which she was first famous and has simply become an angry, paranoid shrew. Dialogue is weak, plot lines are unlikely, unnecessary repetition is rampant.<br /><br />Watching Cornwell at the book signing was actually like watching the demise of the  Scarpetta novel. One got flashes of humor, breif connection with her audience and semi-interesting tidbits. Then reality hit and you realize that this is about the business of selling novels and content does not really seem to matter anymore. However for  me, the proof of the pudding IS in the reading and this is a particular flavor that I wont be indulging in any more. RIP Kay.'},\n",
       " {'parent_asin': '0062976583',\n",
       "  'title': 'Special. Magical. Gem.',\n",
       "  'helpful_vote': 398,\n",
       "  'text': \"Winnie the Pooh and this magical gift of a book. I don't need anything else. Pairs beautifully with Kleenex and a pad of paper to write down all the names that *will* come to you as you're reading it who you just know will love it for the holidays or their birthdays or just because the sun came up. It's *that* enchanting. Hardcover is the only way to go.\"}]"
      ]
     },
     "execution_count": 3,
     "metadata": {},
     "output_type": "execute_result"
    }
   ],
   "source": [
    "list(reviews.shuffle(seed=42).take(3).select_columns(['parent_asin', 'title', 'helpful_vote', 'text']))"
   ]
  },
  {
   "cell_type": "code",
   "execution_count": 32,
   "metadata": {},
   "outputs": [],
   "source": [
    "\n"
   ]
  },
  {
   "cell_type": "code",
   "execution_count": 28,
   "metadata": {},
   "outputs": [],
   "source": [
    "all_meta = {}\n",
    "candidate_asin = reviews.select_columns([\"parent_asin\"]).to_dict()[\"parent_asin\"]\n",
    "# efficiently filter item_meta to only include rows where parent_asin is in candidate_asin\n",
    "item_meta_filtered = item_meta.filter(\n",
    "    (lambda x: np.isin(x[\"parent_asin\"], candidate_asin)),\n",
    "    batched=True,\n",
    "    num_proc=N_CPUS,\n",
    ")\n",
    "for row in item_meta_filtered:\n",
    "    all_meta[row['parent_asin']] = row\n"
   ]
  },
  {
   "cell_type": "code",
   "execution_count": 1,
   "metadata": {},
   "outputs": [
    {
     "data": {
      "application/vnd.jupyter.widget-view+json": {
       "model_id": "ab57829c91b4401f91b8be7d78418c8f",
       "version_major": 2,
       "version_minor": 0
      },
      "text/plain": [
       "Loading dataset shards:   0%|          | 0/33 [00:00<?, ?it/s]"
      ]
     },
     "metadata": {},
     "output_type": "display_data"
    },
    {
     "data": {
      "application/vnd.jupyter.widget-view+json": {
       "model_id": "d2afd76c6caa425f957cea9569e9db0f",
       "version_major": 2,
       "version_minor": 0
      },
      "text/plain": [
       "Loading dataset shards:   0%|          | 0/28 [00:00<?, ?it/s]"
      ]
     },
     "metadata": {},
     "output_type": "display_data"
    }
   ],
   "source": [
    "from data_handling import load_data, clean_meta, clean_review\n",
    "reviews, all_meta = load_data()"
   ]
  },
  {
   "cell_type": "code",
   "execution_count": 12,
   "metadata": {},
   "outputs": [
    {
     "data": {
      "text/plain": [
       "'What Happened A TIME BEST BOOK OF THE YEAR AND NEW YORK TIMES NOTABLE BOOK “In the past, for reasons I try to explain, I’ve often felt I had to be careful in public, like I was up on a wire without a net. Now I’m letting my guard down.” —Hillary Rodham Clinton, from the introduction of What Happened For the first time, Hillary Rodham Clinton reveals what she was thinking and feeling during one of the most controversial and unpredictable presidential elections in history. Now free from the constraints of running, Hillary takes you inside the intense personal experience of becoming the first woman nominated for president by a major party in an election marked by rage, sexism, exhilarating highs and infuriating lows, stranger-than-fiction twists, Russian interference, and an opponent who broke all the rules. This is her most personal memoir yet. In these pages, she describes what it was like to run against Donald Trump, the mistakes she made, how she has coped with a shocking and devastating loss, and how she found the strength to pick herself back up afterward. With humor and candor, she tells readers what it took to get back on her feet—the rituals, relationships, and reading that got her through, and what the experience has taught her about life. She speaks about the challenges of being a strong woman in the public eye, the criticism over her voice, age, and appearance, and the double standard confronting women in politics. She lays out how the 2016 election was marked by an unprecedented assault on our democracy by a foreign adversary. By analyzing the evidence and connecting the dots, Hillary shows just how dangerous the forces are that shaped the outcome, and why Americans need to understand them to protect our values and our democracy in the future. The election of 2016 was unprecedented and historic. What Happened is the story of that campaign and its aftermath—both a deeply intimate account and a cautionary tale for the nation. Review “ What Happened is not one book, but many. It is a candid and blackly funny account of her mood in the direct aftermath of losing to Donald J. Trump. It is a post-mortem, in which she is both coroner and corpse. It is a feminist manifesto. It is a score-settling jubilee…. It is worth reading.” — The New York Times “ What Happened is a raw and bracing book, a guide to our political arena.” — The Washington Post “The writing in What Happened is engaging — Clinton is charming and even funny at times, without trying to paint herself in too flattering of a light…. Ultimately, the book might be a historical artifact most of all — the chronicling of what, exactly, it was like to run for president as the first woman major-party candidate (and, yes, a Clinton as well). Plenty may disagree with Clinton’s opinions on what went wrong for her, but her story will still be an important part of that history when America looks back on the melee that was the 2016 election.” — NPR “An engaging, beautifully synthesized page-turner.” — Slate “Here is Clinton at her most emotionally raw.... While What Happened records the perspective of a pioneer who beat an unprecedented path that stopped just shy of the White House, it also covers territory that many women will recognize.... She demonstrates that she can mine her situation for humor.” — People “ What Happened is not a standard work of this genre. It’s interesting; it’s worth reading; and it sets out questions that the press, in particular, has not done enough to face.” — The Atlantic “Engaging... witty, and useful.” — The N ew York Review of Books “A disturbing autopsy on the state of America today. What Happened is an urgent plea directed not only to those concerned about America’s capacity to survive, but also to all who are anxious about protecting America’s international contributions to human health.” — The Lancet “This is an important book, and anyone who’s worried by what happened last November 8 should pick it up.” — Entertainment Weekly “Contains... insights into Ms. Clinton’s personality, character, and values, and the challenges confronting women in politics.” — Pittsburgh Post-Gazette “The most useful way to read What Happened is as one last instance of Clinton doing what she calls her civic duty.” — Los Angeles Times About the Author Hillary Rodham Clinton is the first woman in US history to become the presidential nominee of a major political party. She served as the 67th Secretary of State after nearly four decades in public service advocating on behalf of children and families as an attorney, First Lady, and US Senator. She is a wife, mother, grandmother, and author of seven previous books, all published by Simon & Schuster.'"
      ]
     },
     "execution_count": 12,
     "metadata": {},
     "output_type": "execute_result"
    }
   ],
   "source": [
    "def concat_item_metadata(dp):\n",
    "    meta = ''\n",
    "    flag = False\n",
    "    if dp['title'] is not None:\n",
    "        meta += dp['title']\n",
    "        flag = True\n",
    "    if len(dp['features']) > 0:\n",
    "        if flag:\n",
    "            meta += ' '\n",
    "        meta += ' '.join(dp['features'])\n",
    "        flag = True\n",
    "    if len(dp['description']) > 0:\n",
    "        if flag:\n",
    "            meta += ' '\n",
    "        meta += ' '.join(dp['description'])\n",
    "    dp['cleaned_metadata'] = meta \\\n",
    "        .replace('\\t', ' ') \\\n",
    "        .replace('\\n', ' ') \\\n",
    "        .replace('\\r', '') \\\n",
    "        .strip()\n",
    "    return dp\n",
    "\n",
    "concat_item_metadata(all_meta[reviews[0][\"parent_asin\"]])['cleaned_metadata']\n",
    "\n"
   ]
  },
  {
   "cell_type": "code",
   "execution_count": null,
   "metadata": {},
   "outputs": [],
   "source": [
    "reviews.add_column(\"item_description\", all)"
   ]
  },
  {
   "cell_type": "code",
   "execution_count": 14,
   "metadata": {},
   "outputs": [],
   "source": [
    "# add meta to reviews for 3 sampled reviews\n",
    "selected_reviews = reviews.shuffle(seed=42).take(3)\n",
    "selected_meta = [concat_item_metadata(all_meta[_])['cleaned_metadata'] for _ in selected_reviews.select_columns([\"parent_asin\"]).to_dict()[\"parent_asin\"]]\n",
    "selected_reviews = selected_reviews.add_column(\"item_description\", selected_meta)\n",
    "\n"
   ]
  },
  {
   "cell_type": "code",
   "execution_count": 15,
   "metadata": {},
   "outputs": [
    {
     "data": {
      "text/plain": [
       "Dataset({\n",
       "    features: ['rating', 'title', 'text', 'images', 'asin', 'parent_asin', 'user_id', 'timestamp', 'helpful_vote', 'verified_purchase', 'item_description'],\n",
       "    num_rows: 3\n",
       "})"
      ]
     },
     "execution_count": 15,
     "metadata": {},
     "output_type": "execute_result"
    }
   ],
   "source": [
    "selected_reviews"
   ]
  },
  {
   "cell_type": "code",
   "execution_count": 9,
   "metadata": {},
   "outputs": [
    {
     "data": {
      "text/plain": [
       "'{\\'rating\\': 5.0, \\'title\\': \\'A Different Approach to Healthy Diet\\', \\'text\\': \\'There are a large number of diet books around, espousing a variety of “healthy” lifestyles, and often these are unsustainable over the long term either for financial or health reasons. Many look at such factors as calories, fat, carbohydrates and more without really considering the foods themselves beyond that. This book isn’t a diet book, per se; instead, it looks at the individual foods and explains how the body uses them to heal and regenerate itself.<br /><br />To cut to the chase on one important point: the focus is very much on natural, unprocessed foods like fruits, vegetables, nuts and fish. There is a definite lack of coverage for land-based meats (beef, pork, lamb) though there is discussion of various types of seafood such as tuna, anchovies, clams and more, and chicken/turkey are also covered.<br /><br />This is not a formal diet book; rather, it is more of a field guide to foods that help your body in several key areas: angiogenesis, regeneration, microbiome, DNA protection and immunity. Each of these get a dedicated chapter on what they are, how tending to them is important and how you can give your body the tools it needs to fight off diseases and heal itself. At the end of the book there is a set of large tables, one for each of these aspects of your health, and the author advises to eat at least one serving of something from each table every day. Interestingly, the book does not advocate eating only things on the lists, but instead says to make sure that these are added to the regular diet.<br /><br />Some of the material regarding specific foods I have seen before, such as the antioxidant properties of certain fruits, good fat content of others and so on, but much of what is here is new to me. What this book does is consolidate a lot of information into one handy reference. I did not know what fiddleheads were until I found out about them in this book, after which I was able to get corroborating information online.<br /><br />I am still working my way through this book and I am learning a lot as I go, but so far I have been very encouraged with what I have seen and read. This is a different approach to health, not focused on weight management and counting calories, but instead focusing on how your body uses different foods to heal, rebuild and defend itself.\\', \\'images\\': [], \\'asin\\': \\'1538714620\\', \\'parent_asin\\': \\'1538714620\\', \\'user_id\\': \\'AFLX66DKF6R3H6OEOC3TIVAYXZIQ\\', \\'timestamp\\': 1547403706697, \\'helpful_vote\\': 623, \\'verified_purchase\\': False, \\'meta.author\\': \"{\\'avatar\\': \\'https://m.media-amazon.com/images/I/81oApO74cTL._SY600_.jpg\\', \\'name\\': \\'William W Li\\', \\'about\\': [\\'William W. Li, MD, is a world-renowned physician, scientist, speaker, and author of EAT TO BEAT DISEASE – The New Science of How Your Body Can Heal Itself.\\', \\'He is best known for leading the Angiogenesis Foundation. His groundbreaking work has impacted more than 70 diseases including cancer, diabetes, blindness, heart disease, and obesity. His TED Talk, “Can We Eat to Starve Cancer?” has garnered more than 11 million views, and he has appeared on The Dr. Oz Show, Martha Stewart Live, CNN, MSNBC, NPR, Voice of America, and has presented at the Vatican’s Unite to Cure conference. An author of over 100 scientific publications in leading journals such as Science, the New England Journal of Medicine, The Lancet, and more, Dr. Li has served on the faculties of Harvard, Tufts, and Dartmouth Medical School.\\']}\", \\'meta.average_rating\\': 4.6, \\'meta.bought_together\\': None, \\'meta.categories\\': [\\'Books\\', \\'Medical Books\\', \\'Medicine\\'], \\'meta.description\\': [\\'Review\\', \\'\"A ground breaking physician shares how we can use food to hack our natural defense systems and hardwire ourselves for health.\"―\\', \\'Mehmet Oz, MD, Host, The Dr. Oz Show\\', \\'\"Dr. William Li is a healthcare pioneer... Dr. Li helps our readers thrive by unpacking how the body\\\\\\'s own systems respond to what we eat. His book will give practical tips for healthier living and empower readers with ways they can help their bodies fight disease.\"―\\', \\'Arianna Huffington, Founder and CEO, Thrive Global\\', \\'\"Finally! A book that tells us the truth about what we can eat to be healthy, based on real science, from a true expert.\\', \\'Eat to Beat Disease\\', \\'will completely change the way you think about your body and the choices you make when you grocery shop, cook for your family, or dine out. Read this book from cover to cover if you want to be on top of your game for health, beauty, and fitness, from the inside out. When it comes to food and health, I\\\\\\'m so happy to have Dr. Li in my camp!\"―\\', \\'Cindy Crawford\\', \\'\"An ode to one of life\\\\\\'s greatest pleasures and a convincing case for a healthy appetite. This book will entertain, educate, devour and then empower you. Dr. William Li teaches us that we have radically underestimated our own power to transform and restore our health. This is a fascinating story of the power of food, a reflection on what we mean by health, and practical tool with the 5x5x5 framework to make sure we are around to enjoy life\\\\\\'s pleasures for as long as possible.\"―\\', \\'Bono\\', \\'\"\\\\\\'We are what we eat\\\\\\' goes the old cliché, but it would be more accurate to say that \\\\\\'we are\\', \\'what we extract from our food\\', \".\\' What if food is more than energy and more than nutrition but a form of medicine? In his ground-breaking book\", \\'Eat to Beat Disease\\', \", Dr. William Li brings the discipline of clinical medical research to bear on a new analysis of the relationship between food and health. Piecing together the puzzle of the how the food we consume impacts how the human body functions and how it protects itself from disease, Dr. Li puts forward a new paradigm to explain this relationship: \\'\", \\'Food as Medicine\\', \".\\'\", \\'Eat to Beat Disease\\', \\'heralds a revolution in thinking about how the food we eat dictates our health.\"―\\', \\'The Edge, U2, Director, The Angiogenesis Foundation\\', \\'\"In a new ground-breaking study--\\', \\'Eat to Beat Disease\\', \\'--Dr. William W. Li provides the knowledge and tools to make better decisions what to eat every day. This easy-to-read book is not a diet book but help you better understand what you eat.\"―\\', \\'The Washington Book Review\\', \\'\"Unlike so many books that turn people away from the foods they enjoy,\\', \\'Eat to Beat Disease\\', \\'shows us how the foods we love actually support our wellbeing and vitality. I recommend that every health seeker read this new classic, and tell their friends and family all about it.\"―\\', \\'Mark Hyman, MD, Director, Cleveland Clinic Center\\', \\'\"As the former Secretary of Agriculture, one of my tasks was to promote good health and nutrition by giving the public modern, scientifically based information, on the foods they eat. Dr. Li\\\\\\'s transformational book is one of the best narratives I have read on the scientific relationship between healthy food, nutrition, and the fight against disease. I recommend it highly.\"―\\', \\'Dan Glickman, Former US Secretary of Agriculture, Vice President, Aspen Institute, Former Chairman, Motion Picture Association of America\\', \\'\"Molecular Medicine has finally been joined by Molecular Nutrition! For decades, we captured a primitive understanding \\\\\\'healthy foods\\\\\\' and applied maxims like \\\\\\'an apple a day keeps the doctor away.\\\\\\' In this book, Dr. Li not only tells us why an apple has health benefits but even more importantly tells us which variety of apple is best!\"―\\', \\'Andrew C. Von Eschenbach, MD, President, Samaritan Health Initiatives, Former Director of the National Cancer Institute, Former Commissioner of the Food and Drug Administration\\', \\'\"The time has come for \\\\\\'health\\\\\\' to be properly defined and for us to understand clearly how food impacts health.\\', \\'Eat to Beat Disease\\', \"delivers on this vision in a big way - and with real science to back it up. Dr. Li\\'s highly enjoyable and informative book spreads the word that achieving great health is within reach for all of us, using the very foods that we love.\", \\'Eat to Beat Disease\\', \\'will excite, amaze, and inspire us all to eat healthy and defeat disease. And remember - you are in control of your own destiny.\"―\\', \\'Louis J. Ignarro, 1998 Nobel Laureate in Medicine\\', \\'\"Among the many diet and health books of recent years, this book should top the list. Dr. William Li, an experienced internal medicine physician, also has an outstanding professional reputation in medical research. He knows science and how to present it to the public. His facts can only lead to a more fulfilling way to think about health for all of us.\"―\\', \\'T. Colin Campbell, PhD, Cornell University, Author, The China Study and Whole\\', \\'\"\\', \\'Eat to Beat Disease\\', \"is a trailblazing book. Author, world-renowned physician and medical scientist Dr. William Li explains how we have the power to help control our own health destiny by making decisions that help the body heal itself. Dr. Li describes how more than 200 foods amplify our body\\'s defenses which can result in beneficial health outcomes.\", \\'Eat to Beat Disease\\', \\'is a must read - I strongly endorse it.\"―\\', \\'Dean Ornish, MD\\', \\'About the Author\\', \\'William W. Li, MD\\', \\', is an internationally renowned Harvard-trained medical doctor, researcher, and president and a founder of the Angiogenesis Foundation. His groundbreaking work has impacted more than seventy diseases including cancer, diabetes, blindness, heart disease, and obesity. His TED Talk, \"Can We Eat to Starve Cancer?\" has garnered more than eleven million views, and he has appeared on\\', \\'The Dr. Oz Show\\', \\',\\', \\'Martha Stewart Live\\', \", CNN, MSNBC, NPR, Voice of America, and has presented at the Vatican\\'s Unite to Cure conference.\"], \\'meta.details\\': \\'{\"Publisher\": \"Balance; First Edition (March 19, 2019)\", \"Language\": \"English\", \"Hardcover\": \"496 pages\", \"ISBN 10\": \"1538714620\", \"ISBN 13\": \"978-1538714621\", \"Reading age\": \"5 years and up\", \"Item Weight\": \"3.53 ounces\", \"Dimensions\": \"6.55 x 1.85 x 9.4 inches\"}\\', \\'meta.features\\': [\\'Eat your way to better health with this\\', \\'New York Times\\', \\'bestseller on\\', \"food\\'s ability to help the body heal itself from cancer, dementia, and dozens of other avoidable diseases.\", \\'Forget everything you think you know about your body and food, and discover the new science of how the body heals itself. Learn how to identify the strategies and dosages for using food to transform your resilience and health in\\', \\'Eat to Beat Disease\\', \".We have radically underestimated our body\\'s power to transform and restore our health. Pioneering physician scientist, Dr. William Li, empowers readers by showing them the evidence behind over 200 health-boosting foods that can starve cancer, reduce your risk of dementia, and beat dozens of avoidable diseases.\", \\'Eat to Beat Disease\\', \"isn\\'t about what foods to avoid, but rather is a life-changing guide to the hundreds of healing foods to add to your meals that support the body\\'s defense systems, including:\", \\'Plums\\', \\'Plums\\', \\'Cinnamon\\', \\'Cinnamon\\', \\'Jasmine tea\\', \\'Jasmine tea\\', \\'Red wine and beer\\', \\'Red wine and beer\\', \\'Black Beans\\', \\'Black Beans\\', \\'San Marzano tomatoes\\', \\'San Marzano tomatoes\\', \\'Olive oil\\', \\'Olive oil\\', \\'Pacific oysters\\', \\'Pacific oysters\\', \\'Cheeses like Jarlsberg, Camembert and cheddar\\', \\'Cheeses like Jarlsberg, Camembert and cheddar\\', \\'Sourdough bread\\', \\'Sourdough bread\\', \"The book\\'s plan shows you how to integrate the foods you already love into any diet or health plan to activate your body\\'s health defense systems-Angiogenesis, Regeneration, Microbiome, DNA Protection, and Immunity-to fight cancer, diabetes, cardiovascular, neurodegenerative autoimmune diseases, and other debilitating conditions.Both informative and practical,\", \\'Eat to Beat Disease\\', \\'explains the science of healing and prevention, the strategies for using food to actively transform health, and points the science of wellbeing and disease prevention in an exhilarating new direction.\\'], \\'meta.images.hi_res\\': [None], \\'meta.images.large\\': [\\'https://m.media-amazon.com/images/I/51VTYRs7xoL._SX427_BO1,204,203,200_.jpg\\'], \\'meta.images.thumb\\': [None], \\'meta.images.variant\\': [\\'MAIN\\'], \\'meta.main_category\\': \\'Books\\', \\'meta.parent_asin\\': \\'1538714620\\', \\'meta.price\\': \\'22.49\\', \\'meta.rating_number\\': 7745, \\'meta.store\\': \\'William W Li MD (Author)\\', \\'meta.subtitle\\': \\'Hardcover – March 19, 2019\\', \\'meta.title\\': \\'Eat to Beat Disease: The New Science of How Your Body Can Heal Itself\\', \\'meta.videos.title\\': [\\'We ALL have Cancer in our Body!  How to Prevent with FOOD?\\', \\'Eat to Beat Disease: The New Science of How Your Body Can Heal Itself\\', \\'Is Eat To Beat Disease worth reading?\\', \\'Heal Your Knee Pain\\', \\'Different approach to eating a healthy diet.\\', \\'Eat to Beat Disease Preview\\'], \\'meta.videos.url\\': [\\'https://www.amazon.com/vdp/0055f238feb343bca52b74253cc9bb5e?ref=dp_vse_rvc_0\\', \\'https://www.amazon.com/vdp/cae612e56a34425ebc5e9ce395c3c622?ref=dp_vse_rvc_1\\', \\'https://www.amazon.com/vdp/02fd937eb4704cb298285caf09e79334?ref=dp_vse_rvc_2\\', \\'https://www.amazon.com/vdp/28b0ec9faa734b18bb13412e70bbc5ed?ref=dp_vse_rvc_3\\', \\'https://www.amazon.com/vdp/08eadc4a19f747da8f7cb828b98c6c6e?ref=dp_vse_rvc_4\\', \\'https://www.amazon.com/vdp/0e9e8fa657c94101be176d3a93b010f1?ref=dp_vse_rvc_5\\'], \\'meta.videos.user_id\\': [\\'/shop/raysreviews\\', \\'\\', \\'/shop/mariedubuque\\', \\'AGE6W7RFEGNIA5NTEKMEWRTNZFRQ\\', \\'/shop/influencer-f692c3e3\\', \\'/shop/marcusstone\\']}'"
      ]
     },
     "execution_count": 9,
     "metadata": {},
     "output_type": "execute_result"
    }
   ],
   "source": [
    "str(selected_reviews[0])"
   ]
  },
  {
   "cell_type": "code",
   "execution_count": 50,
   "metadata": {},
   "outputs": [],
   "source": [
    "# few-shot prompt openai to review based on\n",
    "def example_prompts(reviews):\n",
    "    \"\"\"\n",
    "    Generate a list of few-shot prompts based on the reviews. \n",
    "    Assumes that the reviews have already been cleaned and have an 'item_description' column.\n",
    "    \"\"\"\n",
    "    prompts = []\n",
    "    for review in reviews:\n",
    "        prompts.extend(\n",
    "            [\n",
    "                {\"role\": \"user\", \"content\": f\"Item Description: {review['item_description']}\"},\n",
    "                {\"role\": \"assistant\", \"content\": f\"Title: {review['title']}\\nReview: {review['text']}\"},\n",
    "            ]\n",
    "        )\n",
    "    return prompts\n",
    "\n",
    "\n",
    "def get_client():\n",
    "    client = AzureOpenAI(\n",
    "        azure_endpoint=os.environ.get(\"AZURE_OPENAI_ENDPOINT\"),\n",
    "        api_version=\"2024-08-01-preview\",\n",
    "        api_key=os.environ.get(\"AZURE_OPENAI_API_KEY\"),\n",
    "    )\n",
    "    return client\n",
    "\n",
    "\n",
    "client = get_client()\n",
    "\n",
    "system_prompt = {\n",
    "    \"role\": \"system\",\n",
    "    \"content\": \"You are a helpful assistant that can review books based on the item metadata.\",\n",
    "}\n",
    "user_prompt = {\n",
    "    \"role\": \"user\",\n",
    "    \"content\": item_meta.shuffle().take(1)['cleaned_metadata'][0]\n",
    "}\n",
    "response = client.chat.completions.create(\n",
    "    model=\"gpt-4o-mini\",\n",
    "    messages=[\n",
    "        system_prompt,\n",
    "        *example_prompts(selected_reviews),\n",
    "        user_prompt,\n",
    "    ],\n",
    ")\n"
   ]
  },
  {
   "cell_type": "code",
   "execution_count": 51,
   "metadata": {},
   "outputs": [
    {
     "data": {
      "text/plain": [
       "'Production for Print (Portfolio Skills) This book gives graphic designers the confidence to do everything necessary to ensure trouble-free, high-qualityprintingto calibrate images; adjust trapping levels; and mix colors that wont print as something that is a complete surprise. It explains scanning and resolution, and discusses good and bad image formats, describing techniques to make images look good in print. There is advice on how to get accurate quotes from a printer, a checklist to use when sending a job to print, and a glossary of print production terms. About the Author Mark Gatter has worked in the commercial printing industry and as a freelance graphic designer for the last twenty years. He teaches software courses in Adobe Photoshop, Adobe Illustrator, Adobe InDesign, and Quark XPress as well as custom courses covering all aspects of digital repro and prepress.'"
      ]
     },
     "execution_count": 51,
     "metadata": {},
     "output_type": "execute_result"
    }
   ],
   "source": [
    "user_prompt['content']"
   ]
  },
  {
   "cell_type": "code",
   "execution_count": 53,
   "metadata": {},
   "outputs": [
    {
     "name": "stdout",
     "output_type": "stream",
     "text": [
      "Title: Essential Guide for Graphic Designers\n",
      "Review: \"Production for Print\" serves as an invaluable resource for graphic designers, especially those new to the print industry or seeking to enhance their understanding of print production processes. Mark Gatter's expertise shines throughout the book, as he covers a wide range of topics that are crucial for ensuring high-quality printed materials.<br /><br />One of the book's strengths is its straightforward approach to complex subjects. Gatter simplifies concepts such as image calibration, trapping levels, and color mixing, making them more accessible for readers who may feel overwhelmed by technical jargon. The discussions on scanning and resolution are particularly useful, as they help demystify the common challenges designers face when preparing files for print.<br /><br />Gatter also provides practical insights on working effectively with printers, including tips on how to obtain accurate quotes and what information to provide to avoid misunderstandings. The inclusion of a checklist for print job preparation is an excellent feature, serving as a handy reference for designers to ensure they've covered all necessary steps before sending projects to print.<br /><br />Additionally, the glossary of print production terms serves as a useful tool, helping readers navigate the often confusing terminology associated with the printing process. This book equips designers with the knowledge and skills to produce print-ready files confidently, ultimately leading to more satisfying and successful print projects.<br /><br />Overall, \"Production for Print\" is an essential guide that should be on the shelf of every graphic designer who works with print media. It combines practical advice with industry insights, making it both informative and engaging. Whether you're a beginner or a seasoned professional, this book offers valuable lessons that can enhance your work and ensure a trouble-free printing experience. Highly recommended!\n"
     ]
    }
   ],
   "source": [
    "print(response.choices[0].message.content)\n"
   ]
  },
  {
   "cell_type": "code",
   "execution_count": 40,
   "metadata": {},
   "outputs": [
    {
     "data": {
      "text/plain": [
       "['Outcast A breathtaking tale of love in the West--by the author of Autumnfire. Olivia Baron scandalizes the prudish matrons and rough cowboys of Elkhorn by practicing medicine. When a diptheria epidemic breaks out, she can finally prove her mettle to the townspeople--and to the handsome widower Gabe Danaker.']"
      ]
     },
     "execution_count": 40,
     "metadata": {},
     "output_type": "execute_result"
    }
   ],
   "source": []
  },
  {
   "cell_type": "code",
   "execution_count": null,
   "metadata": {},
   "outputs": [],
   "source": []
  }
 ],
 "metadata": {
  "kernelspec": {
   "display_name": "cis7000-multi-agent-DKUDeX73-py3.12",
   "language": "python",
   "name": "python3"
  },
  "language_info": {
   "codemirror_mode": {
    "name": "ipython",
    "version": 3
   },
   "file_extension": ".py",
   "mimetype": "text/x-python",
   "name": "python",
   "nbconvert_exporter": "python",
   "pygments_lexer": "ipython3",
   "version": "3.12.4"
  }
 },
 "nbformat": 4,
 "nbformat_minor": 2
}
