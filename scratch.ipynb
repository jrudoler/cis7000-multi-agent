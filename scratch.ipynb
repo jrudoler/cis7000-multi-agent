{
 "cells": [
  {
   "cell_type": "code",
   "execution_count": 4,
   "metadata": {},
   "outputs": [
    {
     "data": {
      "application/vnd.jupyter.widget-view+json": {
       "model_id": "a7823bb4b3ba431eb15641103f40928b",
       "version_major": 2,
       "version_minor": 0
      },
      "text/plain": [
       "Loading dataset shards:   0%|          | 0/33 [00:00<?, ?it/s]"
      ]
     },
     "metadata": {},
     "output_type": "display_data"
    },
    {
     "data": {
      "application/vnd.jupyter.widget-view+json": {
       "model_id": "8d03c0eeb6cd4440bdd1ae1bba544837",
       "version_major": 2,
       "version_minor": 0
      },
      "text/plain": [
       "Loading dataset shards:   0%|          | 0/28 [00:00<?, ?it/s]"
      ]
     },
     "metadata": {},
     "output_type": "display_data"
    },
    {
     "data": {
      "application/vnd.jupyter.widget-view+json": {
       "model_id": "593024c2525645bd9733f50ffd4f9fb7",
       "version_major": 2,
       "version_minor": 0
      },
      "text/plain": [
       "Map (num_proc=8):   0%|          | 0/4448181 [00:00<?, ? examples/s]"
      ]
     },
     "metadata": {},
     "output_type": "display_data"
    }
   ],
   "source": [
    "from openai import AzureOpenAI\n",
    "from datasets import load_dataset\n",
    "from data_handling import concat_item_metadata, load_data\n",
    "import os\n",
    "import numpy as np\n",
    "import multiprocessing\n",
    "N_CPUS = multiprocessing.cpu_count()\n",
    "\n",
    "def concat_item_metadata(dp):\n",
    "    meta = ''\n",
    "    flag = False\n",
    "    if dp['title'] is not None:\n",
    "        meta += dp['title']\n",
    "        flag = True\n",
    "    if len(dp['features']) > 0:\n",
    "        if flag:\n",
    "            meta += ' '\n",
    "        meta += ' '.join(dp['features'])\n",
    "        flag = True\n",
    "    if len(dp['description']) > 0:\n",
    "        if flag:\n",
    "            meta += ' '\n",
    "        meta += ' '.join(dp['description'])\n",
    "    dp['cleaned_metadata'] = meta \\\n",
    "        .replace('\\t', ' ') \\\n",
    "        .replace('\\n', ' ') \\\n",
    "        .replace('\\r', '') \\\n",
    "        .strip()\n",
    "    return dp\n",
    "\n",
    "\n",
    "reviews = load_dataset(\"McAuley-Lab/Amazon-Reviews-2023\", \"raw_review_Books\", trust_remote_code=True)\n",
    "reviews = reviews['full']\n",
    "reviews = reviews.sort('helpful_vote', reverse=True).take(5000)\n",
    "\n",
    "item_meta = load_dataset(\"McAuley-Lab/Amazon-Reviews-2023\", \"raw_meta_Books\", trust_remote_code=True)\n",
    "item_meta = item_meta['full']\n",
    "item_meta = item_meta.map(concat_item_metadata, num_proc=N_CPUS)\n",
    "\n",
    "# https://github.com/hyp1231/AmazonReviews2023/blob/main/blair/sample_pretraining_data.py#L125\n"
   ]
  },
  {
   "cell_type": "code",
   "execution_count": 3,
   "metadata": {},
   "outputs": [
    {
     "data": {
      "text/plain": [
       "[{'parent_asin': '1538714620',\n",
       "  'title': 'A Different Approach to Healthy Diet',\n",
       "  'helpful_vote': 623,\n",
       "  'text': 'There are a large number of diet books around, espousing a variety of “healthy” lifestyles, and often these are unsustainable over the long term either for financial or health reasons. Many look at such factors as calories, fat, carbohydrates and more without really considering the foods themselves beyond that. This book isn’t a diet book, per se; instead, it looks at the individual foods and explains how the body uses them to heal and regenerate itself.<br /><br />To cut to the chase on one important point: the focus is very much on natural, unprocessed foods like fruits, vegetables, nuts and fish. There is a definite lack of coverage for land-based meats (beef, pork, lamb) though there is discussion of various types of seafood such as tuna, anchovies, clams and more, and chicken/turkey are also covered.<br /><br />This is not a formal diet book; rather, it is more of a field guide to foods that help your body in several key areas: angiogenesis, regeneration, microbiome, DNA protection and immunity. Each of these get a dedicated chapter on what they are, how tending to them is important and how you can give your body the tools it needs to fight off diseases and heal itself. At the end of the book there is a set of large tables, one for each of these aspects of your health, and the author advises to eat at least one serving of something from each table every day. Interestingly, the book does not advocate eating only things on the lists, but instead says to make sure that these are added to the regular diet.<br /><br />Some of the material regarding specific foods I have seen before, such as the antioxidant properties of certain fruits, good fat content of others and so on, but much of what is here is new to me. What this book does is consolidate a lot of information into one handy reference. I did not know what fiddleheads were until I found out about them in this book, after which I was able to get corroborating information online.<br /><br />I am still working my way through this book and I am learning a lot as I go, but so far I have been very encouraged with what I have seen and read. This is a different approach to health, not focused on weight management and counting calories, but instead focusing on how your body uses different foods to heal, rebuild and defend itself.'},\n",
       " {'parent_asin': '0399158022',\n",
       "  'title': 'The End is Nigh...',\n",
       "  'helpful_vote': 710,\n",
       "  'text': 'I\\'ve read all of the Scarpetta novels and after the last 2, vowed never to read another one as I\\'ve watched Kay et al slide inexorably down the slippery slope into tedium, repetition, predictability and implausibility. However, last week Cornwell came to our local bookstore and so off I went in the vain hope that if she was actually putting in an appearance in our humble neck of the woods then she MUST have something worth offering. The event was extremely well attended with much overflow milling about in the aisles and generally raising the blood pressure of her \"security\" (a young man with a Secret Service-looking curly wire hanging out of his ear) and the event organizer who would have been right at home in the Catholic school of which I have shuddering memories. Suitably chastised into order, the tension mounted as we were promised the imminent arrival of Cornwell (\"how excited are you??\") for 20 minutes. Which is exactly how long we were given. No reading from Red Mist, 20 minutes of questions and answers, and on to the book signing. No dedications please, no conversation or questions (probably just as well as I don\\'t think that my comment of \"I hope this is better than the last one\" would have gone down very well) -  just an illegible scrawled signature and  on to the next in line. Move `em along and rack up the dollars. I spent longer trying to find a parking space than I did in the esteemed author\\'s presence.  I left clutching my hardback copy for which I paid $$$ and wondering vaguely what had just happened.<br /><br />Feeling somewhat disgruntled I settled in at home with a pot of tea and The Book. 120 pages later I felt the panic starting to creep in. 50 pages further on I was tempted to fling myself on the floor kicking and screaming. A couple of days later when I had finished it (not all in one sitting - I can only take so much at once) I was leaning towards returning the book and demanding my money back. I mean, it\\'s not as if you can even read the signature! As many other reviewers have stated, Red Mist is an incredibly disappointing novel. Cornwell seems to have reached the sad but often inevitable place that many authors with an initially much loved character reach - she\\'s quite simply run out of steam. It pains me to admit that I no longer like any of her characters; although I must admit to never having liked Lucy. She becomes ever more sociopathic (a word that Cornwell herself used to describe her at the signing) but not in a Dexter-ish way. Benton quite simply should have remained dead. Marino continues to barge about in his boorish/boring manner. Scarpetta has lost the clever edginess for which she was first famous and has simply become an angry, paranoid shrew. Dialogue is weak, plot lines are unlikely, unnecessary repetition is rampant.<br /><br />Watching Cornwell at the book signing was actually like watching the demise of the  Scarpetta novel. One got flashes of humor, breif connection with her audience and semi-interesting tidbits. Then reality hit and you realize that this is about the business of selling novels and content does not really seem to matter anymore. However for  me, the proof of the pudding IS in the reading and this is a particular flavor that I wont be indulging in any more. RIP Kay.'},\n",
       " {'parent_asin': '0062976583',\n",
       "  'title': 'Special. Magical. Gem.',\n",
       "  'helpful_vote': 398,\n",
       "  'text': \"Winnie the Pooh and this magical gift of a book. I don't need anything else. Pairs beautifully with Kleenex and a pad of paper to write down all the names that *will* come to you as you're reading it who you just know will love it for the holidays or their birthdays or just because the sun came up. It's *that* enchanting. Hardcover is the only way to go.\"}]"
      ]
     },
     "execution_count": 3,
     "metadata": {},
     "output_type": "execute_result"
    }
   ],
   "source": [
    "list(reviews.shuffle(seed=42).take(3).select_columns(['parent_asin', 'title', 'helpful_vote', 'text']))"
   ]
  },
  {
   "cell_type": "code",
   "execution_count": 6,
   "metadata": {},
   "outputs": [
    {
     "data": {
      "application/vnd.jupyter.widget-view+json": {
       "model_id": "e11db546e2104348900774423c28008b",
       "version_major": 2,
       "version_minor": 0
      },
      "text/plain": [
       "Filter (num_proc=8):   0%|          | 0/4448181 [00:00<?, ? examples/s]"
      ]
     },
     "metadata": {},
     "output_type": "display_data"
    }
   ],
   "source": [
    "all_meta = {}\n",
    "candidate_asin = reviews.select_columns([\"parent_asin\"]).to_dict()[\"parent_asin\"]\n",
    "# efficiently filter item_meta to only include rows where parent_asin is in candidate_asin\n",
    "item_meta_filtered = item_meta.filter(\n",
    "    (lambda x: np.isin(x[\"parent_asin\"], candidate_asin)),\n",
    "    batched=True,\n",
    "    num_proc=N_CPUS,\n",
    ")\n",
    "for row in item_meta_filtered:\n",
    "    all_meta[row['parent_asin']] = row['cleaned_metadata']\n"
   ]
  },
  {
   "cell_type": "code",
   "execution_count": 12,
   "metadata": {},
   "outputs": [
    {
     "data": {
      "text/plain": [
       "'What Happened A TIME BEST BOOK OF THE YEAR AND NEW YORK TIMES NOTABLE BOOK “In the past, for reasons I try to explain, I’ve often felt I had to be careful in public, like I was up on a wire without a net. Now I’m letting my guard down.” —Hillary Rodham Clinton, from the introduction of What Happened For the first time, Hillary Rodham Clinton reveals what she was thinking and feeling during one of the most controversial and unpredictable presidential elections in history. Now free from the constraints of running, Hillary takes you inside the intense personal experience of becoming the first woman nominated for president by a major party in an election marked by rage, sexism, exhilarating highs and infuriating lows, stranger-than-fiction twists, Russian interference, and an opponent who broke all the rules. This is her most personal memoir yet. In these pages, she describes what it was like to run against Donald Trump, the mistakes she made, how she has coped with a shocking and devastating loss, and how she found the strength to pick herself back up afterward. With humor and candor, she tells readers what it took to get back on her feet—the rituals, relationships, and reading that got her through, and what the experience has taught her about life. She speaks about the challenges of being a strong woman in the public eye, the criticism over her voice, age, and appearance, and the double standard confronting women in politics. She lays out how the 2016 election was marked by an unprecedented assault on our democracy by a foreign adversary. By analyzing the evidence and connecting the dots, Hillary shows just how dangerous the forces are that shaped the outcome, and why Americans need to understand them to protect our values and our democracy in the future. The election of 2016 was unprecedented and historic. What Happened is the story of that campaign and its aftermath—both a deeply intimate account and a cautionary tale for the nation. Review “ What Happened is not one book, but many. It is a candid and blackly funny account of her mood in the direct aftermath of losing to Donald J. Trump. It is a post-mortem, in which she is both coroner and corpse. It is a feminist manifesto. It is a score-settling jubilee…. It is worth reading.” — The New York Times “ What Happened is a raw and bracing book, a guide to our political arena.” — The Washington Post “The writing in What Happened is engaging — Clinton is charming and even funny at times, without trying to paint herself in too flattering of a light…. Ultimately, the book might be a historical artifact most of all — the chronicling of what, exactly, it was like to run for president as the first woman major-party candidate (and, yes, a Clinton as well). Plenty may disagree with Clinton’s opinions on what went wrong for her, but her story will still be an important part of that history when America looks back on the melee that was the 2016 election.” — NPR “An engaging, beautifully synthesized page-turner.” — Slate “Here is Clinton at her most emotionally raw.... While What Happened records the perspective of a pioneer who beat an unprecedented path that stopped just shy of the White House, it also covers territory that many women will recognize.... She demonstrates that she can mine her situation for humor.” — People “ What Happened is not a standard work of this genre. It’s interesting; it’s worth reading; and it sets out questions that the press, in particular, has not done enough to face.” — The Atlantic “Engaging... witty, and useful.” — The N ew York Review of Books “A disturbing autopsy on the state of America today. What Happened is an urgent plea directed not only to those concerned about America’s capacity to survive, but also to all who are anxious about protecting America’s international contributions to human health.” — The Lancet “This is an important book, and anyone who’s worried by what happened last November 8 should pick it up.” — Entertainment Weekly “Contains... insights into Ms. Clinton’s personality, character, and values, and the challenges confronting women in politics.” — Pittsburgh Post-Gazette “The most useful way to read What Happened is as one last instance of Clinton doing what she calls her civic duty.” — Los Angeles Times About the Author Hillary Rodham Clinton is the first woman in US history to become the presidential nominee of a major political party. She served as the 67th Secretary of State after nearly four decades in public service advocating on behalf of children and families as an attorney, First Lady, and US Senator. She is a wife, mother, grandmother, and author of seven previous books, all published by Simon & Schuster.'"
      ]
     },
     "execution_count": 12,
     "metadata": {},
     "output_type": "execute_result"
    }
   ],
   "source": [
    "concat_item_metadata(all_meta[reviews[0][\"parent_asin\"]])['cleaned_metadata']"
   ]
  },
  {
   "cell_type": "code",
   "execution_count": 15,
   "metadata": {},
   "outputs": [
    {
     "ename": "ValueError",
     "evalue": "The table can't have duplicated columns but columns ['item_description'] are duplicated.",
     "output_type": "error",
     "traceback": [
      "\u001b[0;31m---------------------------------------------------------------------------\u001b[0m",
      "\u001b[0;31mValueError\u001b[0m                                Traceback (most recent call last)",
      "Cell \u001b[0;32mIn[15], line 1\u001b[0m\n\u001b[0;32m----> 1\u001b[0m reviews \u001b[38;5;241m=\u001b[39m \u001b[43mreviews\u001b[49m\u001b[38;5;241;43m.\u001b[39;49m\u001b[43madd_column\u001b[49m\u001b[43m(\u001b[49m\u001b[38;5;124;43m\"\u001b[39;49m\u001b[38;5;124;43mitem_description\u001b[39;49m\u001b[38;5;124;43m\"\u001b[39;49m\u001b[43m,\u001b[49m\u001b[43m \u001b[49m\u001b[43m[\u001b[49m\u001b[43mall_meta\u001b[49m\u001b[43m[\u001b[49m\u001b[43mreview\u001b[49m\u001b[43m[\u001b[49m\u001b[38;5;124;43m'\u001b[39;49m\u001b[38;5;124;43mparent_asin\u001b[39;49m\u001b[38;5;124;43m'\u001b[39;49m\u001b[43m]\u001b[49m\u001b[43m]\u001b[49m\u001b[43m \u001b[49m\u001b[38;5;28;43;01mfor\u001b[39;49;00m\u001b[43m \u001b[49m\u001b[43mreview\u001b[49m\u001b[43m \u001b[49m\u001b[38;5;129;43;01min\u001b[39;49;00m\u001b[43m \u001b[49m\u001b[43mreviews\u001b[49m\u001b[43m]\u001b[49m\u001b[43m)\u001b[49m\n",
      "File \u001b[0;32m~/Library/Caches/pypoetry/virtualenvs/cis7000-multi-agent-DKUDeX73-py3.12/lib/python3.12/site-packages/datasets/arrow_dataset.py:560\u001b[0m, in \u001b[0;36mtransmit_format.<locals>.wrapper\u001b[0;34m(*args, **kwargs)\u001b[0m\n\u001b[1;32m    553\u001b[0m self_format \u001b[38;5;241m=\u001b[39m {\n\u001b[1;32m    554\u001b[0m     \u001b[38;5;124m\"\u001b[39m\u001b[38;5;124mtype\u001b[39m\u001b[38;5;124m\"\u001b[39m: \u001b[38;5;28mself\u001b[39m\u001b[38;5;241m.\u001b[39m_format_type,\n\u001b[1;32m    555\u001b[0m     \u001b[38;5;124m\"\u001b[39m\u001b[38;5;124mformat_kwargs\u001b[39m\u001b[38;5;124m\"\u001b[39m: \u001b[38;5;28mself\u001b[39m\u001b[38;5;241m.\u001b[39m_format_kwargs,\n\u001b[1;32m    556\u001b[0m     \u001b[38;5;124m\"\u001b[39m\u001b[38;5;124mcolumns\u001b[39m\u001b[38;5;124m\"\u001b[39m: \u001b[38;5;28mself\u001b[39m\u001b[38;5;241m.\u001b[39m_format_columns,\n\u001b[1;32m    557\u001b[0m     \u001b[38;5;124m\"\u001b[39m\u001b[38;5;124moutput_all_columns\u001b[39m\u001b[38;5;124m\"\u001b[39m: \u001b[38;5;28mself\u001b[39m\u001b[38;5;241m.\u001b[39m_output_all_columns,\n\u001b[1;32m    558\u001b[0m }\n\u001b[1;32m    559\u001b[0m \u001b[38;5;66;03m# apply actual function\u001b[39;00m\n\u001b[0;32m--> 560\u001b[0m out: Union[\u001b[38;5;124m\"\u001b[39m\u001b[38;5;124mDataset\u001b[39m\u001b[38;5;124m\"\u001b[39m, \u001b[38;5;124m\"\u001b[39m\u001b[38;5;124mDatasetDict\u001b[39m\u001b[38;5;124m\"\u001b[39m] \u001b[38;5;241m=\u001b[39m \u001b[43mfunc\u001b[49m\u001b[43m(\u001b[49m\u001b[38;5;28;43mself\u001b[39;49m\u001b[43m,\u001b[49m\u001b[43m \u001b[49m\u001b[38;5;241;43m*\u001b[39;49m\u001b[43margs\u001b[49m\u001b[43m,\u001b[49m\u001b[43m \u001b[49m\u001b[38;5;241;43m*\u001b[39;49m\u001b[38;5;241;43m*\u001b[39;49m\u001b[43mkwargs\u001b[49m\u001b[43m)\u001b[49m\n\u001b[1;32m    561\u001b[0m datasets: List[\u001b[38;5;124m\"\u001b[39m\u001b[38;5;124mDataset\u001b[39m\u001b[38;5;124m\"\u001b[39m] \u001b[38;5;241m=\u001b[39m \u001b[38;5;28mlist\u001b[39m(out\u001b[38;5;241m.\u001b[39mvalues()) \u001b[38;5;28;01mif\u001b[39;00m \u001b[38;5;28misinstance\u001b[39m(out, \u001b[38;5;28mdict\u001b[39m) \u001b[38;5;28;01melse\u001b[39;00m [out]\n\u001b[1;32m    562\u001b[0m \u001b[38;5;66;03m# re-apply format to the output\u001b[39;00m\n",
      "File \u001b[0;32m~/Library/Caches/pypoetry/virtualenvs/cis7000-multi-agent-DKUDeX73-py3.12/lib/python3.12/site-packages/datasets/fingerprint.py:442\u001b[0m, in \u001b[0;36mfingerprint_transform.<locals>._fingerprint.<locals>.wrapper\u001b[0;34m(*args, **kwargs)\u001b[0m\n\u001b[1;32m    438\u001b[0m             validate_fingerprint(kwargs[fingerprint_name])\n\u001b[1;32m    440\u001b[0m \u001b[38;5;66;03m# Call actual function\u001b[39;00m\n\u001b[0;32m--> 442\u001b[0m out \u001b[38;5;241m=\u001b[39m \u001b[43mfunc\u001b[49m\u001b[43m(\u001b[49m\u001b[43mdataset\u001b[49m\u001b[43m,\u001b[49m\u001b[43m \u001b[49m\u001b[38;5;241;43m*\u001b[39;49m\u001b[43margs\u001b[49m\u001b[43m,\u001b[49m\u001b[43m \u001b[49m\u001b[38;5;241;43m*\u001b[39;49m\u001b[38;5;241;43m*\u001b[39;49m\u001b[43mkwargs\u001b[49m\u001b[43m)\u001b[49m\n\u001b[1;32m    444\u001b[0m \u001b[38;5;66;03m# Update fingerprint of in-place transforms + update in-place history of transforms\u001b[39;00m\n\u001b[1;32m    446\u001b[0m \u001b[38;5;28;01mif\u001b[39;00m inplace:  \u001b[38;5;66;03m# update after calling func so that the fingerprint doesn't change if the function fails\u001b[39;00m\n",
      "File \u001b[0;32m~/Library/Caches/pypoetry/virtualenvs/cis7000-multi-agent-DKUDeX73-py3.12/lib/python3.12/site-packages/datasets/arrow_dataset.py:5682\u001b[0m, in \u001b[0;36mDataset.add_column\u001b[0;34m(self, name, column, new_fingerprint, feature)\u001b[0m\n\u001b[1;32m   5679\u001b[0m     pyarrow_schema \u001b[38;5;241m=\u001b[39m \u001b[38;5;28;01mNone\u001b[39;00m\n\u001b[1;32m   5681\u001b[0m column_table \u001b[38;5;241m=\u001b[39m InMemoryTable\u001b[38;5;241m.\u001b[39mfrom_pydict({name: column}, schema\u001b[38;5;241m=\u001b[39mpyarrow_schema)\n\u001b[0;32m-> 5682\u001b[0m \u001b[43m_check_column_names\u001b[49m\u001b[43m(\u001b[49m\u001b[38;5;28;43mself\u001b[39;49m\u001b[38;5;241;43m.\u001b[39;49m\u001b[43m_data\u001b[49m\u001b[38;5;241;43m.\u001b[39;49m\u001b[43mcolumn_names\u001b[49m\u001b[43m \u001b[49m\u001b[38;5;241;43m+\u001b[39;49m\u001b[43m \u001b[49m\u001b[43mcolumn_table\u001b[49m\u001b[38;5;241;43m.\u001b[39;49m\u001b[43mcolumn_names\u001b[49m\u001b[43m)\u001b[49m\n\u001b[1;32m   5683\u001b[0m dataset \u001b[38;5;241m=\u001b[39m \u001b[38;5;28mself\u001b[39m\u001b[38;5;241m.\u001b[39mflatten_indices() \u001b[38;5;28;01mif\u001b[39;00m \u001b[38;5;28mself\u001b[39m\u001b[38;5;241m.\u001b[39m_indices \u001b[38;5;129;01mis\u001b[39;00m \u001b[38;5;129;01mnot\u001b[39;00m \u001b[38;5;28;01mNone\u001b[39;00m \u001b[38;5;28;01melse\u001b[39;00m \u001b[38;5;28mself\u001b[39m\n\u001b[1;32m   5684\u001b[0m \u001b[38;5;66;03m# Concatenate tables horizontally\u001b[39;00m\n",
      "File \u001b[0;32m~/Library/Caches/pypoetry/virtualenvs/cis7000-multi-agent-DKUDeX73-py3.12/lib/python3.12/site-packages/datasets/arrow_dataset.py:617\u001b[0m, in \u001b[0;36m_check_column_names\u001b[0;34m(column_names)\u001b[0m\n\u001b[1;32m    615\u001b[0m \u001b[38;5;28;01mif\u001b[39;00m \u001b[38;5;129;01mnot\u001b[39;00m \u001b[38;5;28mall\u001b[39m(count \u001b[38;5;241m==\u001b[39m \u001b[38;5;241m1\u001b[39m \u001b[38;5;28;01mfor\u001b[39;00m count \u001b[38;5;129;01min\u001b[39;00m counter\u001b[38;5;241m.\u001b[39mvalues()):\n\u001b[1;32m    616\u001b[0m     duplicated_columns \u001b[38;5;241m=\u001b[39m [col \u001b[38;5;28;01mfor\u001b[39;00m col \u001b[38;5;129;01min\u001b[39;00m counter \u001b[38;5;28;01mif\u001b[39;00m counter[col] \u001b[38;5;241m>\u001b[39m \u001b[38;5;241m1\u001b[39m]\n\u001b[0;32m--> 617\u001b[0m     \u001b[38;5;28;01mraise\u001b[39;00m \u001b[38;5;167;01mValueError\u001b[39;00m(\u001b[38;5;124mf\u001b[39m\u001b[38;5;124m\"\u001b[39m\u001b[38;5;124mThe table can\u001b[39m\u001b[38;5;124m'\u001b[39m\u001b[38;5;124mt have duplicated columns but columns \u001b[39m\u001b[38;5;132;01m{\u001b[39;00mduplicated_columns\u001b[38;5;132;01m}\u001b[39;00m\u001b[38;5;124m are duplicated.\u001b[39m\u001b[38;5;124m\"\u001b[39m)\n",
      "\u001b[0;31mValueError\u001b[0m: The table can't have duplicated columns but columns ['item_description'] are duplicated."
     ]
    }
   ],
   "source": [
    "reviews = reviews.add_column(\"item_description\", [all_meta[review['parent_asin']] for review in reviews])"
   ]
  },
  {
   "cell_type": "code",
   "execution_count": 16,
   "metadata": {},
   "outputs": [],
   "source": [
    "# few-shot prompt openai to review based on\n",
    "def example_prompts(reviews):\n",
    "    \"\"\"\n",
    "    Generate a list of few-shot prompts based on the reviews. \n",
    "    Assumes that the reviews have already been cleaned and have an 'item_description' column.\n",
    "    \"\"\"\n",
    "    prompts = []\n",
    "    for review in reviews:\n",
    "        prompts.extend(\n",
    "            [\n",
    "                {\"role\": \"user\", \"content\": f\"Item Description: {review['item_description']}\"},\n",
    "                {\"role\": \"assistant\", \"content\": f\"Title: {review['title']}\\nReview: {review['text']}\"},\n",
    "            ]\n",
    "        )\n",
    "    return prompts\n",
    "\n",
    "\n",
    "def get_client():\n",
    "    client = AzureOpenAI(\n",
    "        azure_endpoint=os.environ.get(\"AZURE_OPENAI_ENDPOINT\"),\n",
    "        api_version=\"2024-08-01-preview\",\n",
    "        api_key=os.environ.get(\"AZURE_OPENAI_API_KEY\"),\n",
    "    )\n",
    "    return client\n",
    "\n",
    "\n",
    "client = get_client()\n",
    "\n",
    "\n"
   ]
  },
  {
   "cell_type": "code",
   "execution_count": 20,
   "metadata": {},
   "outputs": [],
   "source": [
    "seed = 42           \n",
    "system_prompt = {\n",
    "    \"role\": \"system\",\n",
    "    \"content\": \"You are a helpful assistant that can review books based on the item metadata.\",\n",
    "}\n",
    "user_prompt = {\n",
    "    \"role\": \"user\",\n",
    "    \"content\": item_meta.shuffle(seed=seed).take(1)['cleaned_metadata'][0]\n",
    "}\n",
    "response = client.chat.completions.create(\n",
    "    model=\"gpt-4o-mini\",\n",
    "    messages=[\n",
    "        system_prompt,\n",
    "        *example_prompts(reviews.shuffle(seed=seed).take(3)),\n",
    "        user_prompt,\n",
    "    ],\n",
    ")"
   ]
  },
  {
   "cell_type": "code",
   "execution_count": 28,
   "metadata": {},
   "outputs": [
    {
     "name": "stdout",
     "output_type": "stream",
     "text": [
      "##########\n",
      "given:\n",
      "Outcast A breathtaking tale of love in the West--by the author of Autumnfire. Olivia Baron scandalizes the prudish matrons and rough cowboys of Elkhorn by practicing medicine. When a diptheria epidemic breaks out, she can finally prove her mettle to the townspeople--and to the handsome widower Gabe Danaker.\n",
      "##########\n",
      "response:\n",
      "Title: A Heartfelt Western Romance\n",
      "Review: \"Outcast\" is a captivating tale that beautifully intertwines love and resilience in the rugged backdrop of the American West. The story follows Olivia Baron, a pioneering woman who defies the traditional roles of her time by establishing herself as a doctor in the conservative town of Elkhorn. Her determination to practice medicine not only challenges societal norms but also sets the stage for her to prove her worth when a diphtheria epidemic strikes the community.\n",
      "\n",
      "The narrative expertly showcases Olivia's character as she navigates the skepticism and prejudice of both the local matrons and the rough-and-tumble cowboys. Her journey of self-discovery and the strength she demonstrates during the crisis make her an inspiring protagonist. Moreover, the budding romance with Gabe Danaker, a handsome widower, adds an engaging layer to the plot—exploring themes of vulnerability, trust, and the healing power of love amidst adversity.\n",
      "\n",
      "The author's vivid descriptions transport readers to the heart of the West, evoking the beauty and hardships of frontier life. The interactions between Olivia and the townsfolk are particularly well-crafted, highlighting the tension and eventual acceptance she experiences as she steps into her role as a healer.\n",
      "\n",
      "Overall, \"Outcast\" successfully combines a heartwarming love story with a compelling exploration of gender roles and social justice. Fans of historical romance will find this novel both moving and empowering, as it captures the essence of what it means to fight for one's place in the world while cultivating deep connections with others. A delightful read that leaves a lasting impression!\n"
     ]
    }
   ],
   "source": [
    "print(f\"{'#'*10}\\ngiven:\\n{user_prompt['content']}\")\n",
    "print(f\"{'#'*10}\\nresponse:\\n{response.choices[0].message.content}\")"
   ]
  },
  {
   "cell_type": "code",
   "execution_count": null,
   "metadata": {},
   "outputs": [],
   "source": []
  }
 ],
 "metadata": {
  "kernelspec": {
   "display_name": "cis7000-multi-agent-DKUDeX73-py3.12",
   "language": "python",
   "name": "python3"
  },
  "language_info": {
   "codemirror_mode": {
    "name": "ipython",
    "version": 3
   },
   "file_extension": ".py",
   "mimetype": "text/x-python",
   "name": "python",
   "nbconvert_exporter": "python",
   "pygments_lexer": "ipython3",
   "version": "3.12.4"
  }
 },
 "nbformat": 4,
 "nbformat_minor": 2
}
